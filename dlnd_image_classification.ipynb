{
 "cells": [
  {
   "cell_type": "markdown",
   "metadata": {
    "collapsed": true,
    "deletable": true,
    "editable": true
   },
   "source": [
    "# Image Classification\n",
    "In this project, you'll classify images from the [CIFAR-10 dataset](https://www.cs.toronto.edu/~kriz/cifar.html).  The dataset consists of airplanes, dogs, cats, and other objects. You'll preprocess the images, then train a convolutional neural network on all the samples. The images need to be normalized and the labels need to be one-hot encoded.  You'll get to apply what you learned and build a convolutional, max pooling, dropout, and fully connected layers.  At the end, you'll get to see your neural network's predictions on the sample images.\n",
    "## Get the Data\n",
    "Run the following cell to download the [CIFAR-10 dataset for python](https://www.cs.toronto.edu/~kriz/cifar-10-python.tar.gz)."
   ]
  },
  {
   "cell_type": "code",
   "execution_count": 15,
   "metadata": {
    "collapsed": false,
    "deletable": true,
    "editable": true
   },
   "outputs": [
    {
     "name": "stdout",
     "output_type": "stream",
     "text": [
      "All files found!\n"
     ]
    }
   ],
   "source": [
    "\"\"\"\n",
    "DON'T MODIFY ANYTHING IN THIS CELL THAT IS BELOW THIS LINE\n",
    "\"\"\"\n",
    "from urllib.request import urlretrieve\n",
    "from os.path import isfile, isdir\n",
    "from tqdm import tqdm\n",
    "import problem_unittests as tests\n",
    "import tarfile\n",
    "\n",
    "cifar10_dataset_folder_path = 'cifar-10-batches-py'\n",
    "\n",
    "class DLProgress(tqdm):\n",
    "    last_block = 0\n",
    "\n",
    "    def hook(self, block_num=1, block_size=1, total_size=None):\n",
    "        self.total = total_size\n",
    "        self.update((block_num - self.last_block) * block_size)\n",
    "        self.last_block = block_num\n",
    "\n",
    "if not isfile('cifar-10-python.tar.gz'):\n",
    "    with DLProgress(unit='B', unit_scale=True, miniters=1, desc='CIFAR-10 Dataset') as pbar:\n",
    "        urlretrieve(\n",
    "            'https://www.cs.toronto.edu/~kriz/cifar-10-python.tar.gz',\n",
    "            'cifar-10-python.tar.gz',\n",
    "            pbar.hook)\n",
    "\n",
    "if not isdir(cifar10_dataset_folder_path):\n",
    "    with tarfile.open('cifar-10-python.tar.gz') as tar:\n",
    "        tar.extractall()\n",
    "        tar.close()\n",
    "\n",
    "\n",
    "tests.test_folder_path(cifar10_dataset_folder_path)"
   ]
  },
  {
   "cell_type": "markdown",
   "metadata": {
    "deletable": true,
    "editable": true
   },
   "source": [
    "## Explore the Data\n",
    "The dataset is broken into batches to prevent your machine from running out of memory.  The CIFAR-10 dataset consists of 5 batches, named `data_batch_1`, `data_batch_2`, etc.. Each batch contains the labels and images that are one of the following:\n",
    "* airplane\n",
    "* automobile\n",
    "* bird\n",
    "* cat\n",
    "* deer\n",
    "* dog\n",
    "* frog\n",
    "* horse\n",
    "* ship\n",
    "* truck\n",
    "\n",
    "Understanding a dataset is part of making predictions on the data.  Play around with the code cell below by changing the `batch_id` and `sample_id`. The `batch_id` is the id for a batch (1-5). The `sample_id` is the id for a image and label pair in the batch.\n",
    "\n",
    "Ask yourself \"What are all possible labels?\", \"What is the range of values for the image data?\", \"Are the labels in order or random?\".  Answers to questions like these will help you preprocess the data and end up with better predictions."
   ]
  },
  {
   "cell_type": "code",
   "execution_count": 16,
   "metadata": {
    "collapsed": false,
    "deletable": true,
    "editable": true
   },
   "outputs": [
    {
     "name": "stdout",
     "output_type": "stream",
     "text": [
      "\n",
      "Stats of batch 5:\n",
      "Samples: 10000\n",
      "Label Counts: {0: 1014, 1: 1014, 2: 952, 3: 1016, 4: 997, 5: 1025, 6: 980, 7: 977, 8: 1003, 9: 1022}\n",
      "First 20 Labels: [1, 8, 5, 1, 5, 7, 4, 3, 8, 2, 7, 2, 0, 1, 5, 9, 6, 2, 0, 8]\n",
      "\n",
      "Example of Image 12:\n",
      "Image - Min Value: 47 Max Value: 255\n",
      "Image - Shape: (32, 32, 3)\n",
      "Label - Label Id: 0 Name: airplane\n"
     ]
    },
    {
     "data": {
      "image/png": "[encoded data removed]",
      "text/plain": [
       "<matplotlib.figure.Figure at 0x7f994078b240>"
      ]
     },
     "metadata": {
      "image/png": {
       "height": 250,
       "width": 253
      }
     },
     "output_type": "display_data"
    }
   ],
   "source": [
    "%matplotlib inline\n",
    "%config InlineBackend.figure_format = 'retina'\n",
    "\n",
    "import helper\n",
    "import numpy as np\n",
    "\n",
    "# Explore the dataset\n",
    "batch_id = 5\n",
    "sample_id = 12\n",
    "helper.display_stats(cifar10_dataset_folder_path, batch_id, sample_id)"
   ]
  },
  {
   "cell_type": "markdown",
   "metadata": {
    "deletable": true,
    "editable": true
   },
   "source": [
    "## Implement Preprocess Functions\n",
    "### Normalize\n",
    "In the cell below, implement the `normalize` function to take in image data, `x`, and return it as a normalized Numpy array. The values should be in the range of 0 to 1, inclusive.  The return object should be the same shape as `x`."
   ]
  },
  {
   "cell_type": "code",
   "execution_count": 17,
   "metadata": {
    "collapsed": false,
    "deletable": true,
    "editable": true
   },
   "outputs": [
    {
     "name": "stdout",
     "output_type": "stream",
     "text": [
      "Tests Passed\n"
     ]
    }
   ],
   "source": [
    "def normalize(x):\n",
    "    \"\"\"\n",
    "    Normalize a list of sample image data in the range of 0 to 1\n",
    "    : x: List of image data.  The image shape is (32, 32, 3)\n",
    "    : return: Numpy array of normalize data\n",
    "    \"\"\"\n",
    "    # TODO: Implement Function\n",
    "    return np.array(x/255)\n",
    "\n",
    "\n",
    "\"\"\"\n",
    "DON'T MODIFY ANYTHING IN THIS CELL THAT IS BELOW THIS LINE\n",
    "\"\"\"\n",
    "tests.test_normalize(normalize)"
   ]
  },
  {
   "cell_type": "markdown",
   "metadata": {
    "deletable": true,
    "editable": true
   },
   "source": [
    "### One-hot encode\n",
    "Just like the previous code cell, you'll be implementing a function for preprocessing.  This time, you'll implement the `one_hot_encode` function. The input, `x`, are a list of labels.  Implement the function to return the list of labels as One-Hot encoded Numpy array.  The possible values for labels are 0 to 9. The one-hot encoding function should return the same encoding for each value between each call to `one_hot_encode`.  Make sure to save the map of encodings outside the function.\n",
    "\n",
    "Hint: Don't reinvent the wheel."
   ]
  },
  {
   "cell_type": "code",
   "execution_count": 18,
   "metadata": {
    "collapsed": false,
    "deletable": true,
    "editable": true
   },
   "outputs": [
    {
     "name": "stdout",
     "output_type": "stream",
     "text": [
      "Tests Passed\n"
     ]
    }
   ],
   "source": [
    "from sklearn import preprocessing\n",
    "lb = preprocessing.LabelBinarizer()\n",
    "def one_hot_encode(x):\n",
    "    \"\"\"\n",
    "    One hot encode a list of sample labels. Return a one-hot encoded vector for each label.\n",
    "    : x: List of sample Labels\n",
    "    : return: Numpy array of one-hot encoded labels\n",
    "    \"\"\"\n",
    "    # TODO: Implement Function\n",
    "    lb.fit(range(10))\n",
    "    return lb.transform(x)\n",
    "\n",
    "\n",
    "\"\"\"\n",
    "DON'T MODIFY ANYTHING IN THIS CELL THAT IS BELOW THIS LINE\n",
    "\"\"\"\n",
    "tests.test_one_hot_encode(one_hot_encode)"
   ]
  },
  {
   "cell_type": "markdown",
   "metadata": {
    "deletable": true,
    "editable": true
   },
   "source": [
    "### Randomize Data\n",
    "As you saw from exploring the data above, the order of the samples are randomized.  It doesn't hurt to randomize it again, but you don't need to for this dataset."
   ]
  },
  {
   "cell_type": "markdown",
   "metadata": {
    "deletable": true,
    "editable": true
   },
   "source": [
    "## Preprocess all the data and save it\n",
    "Running the code cell below will preprocess all the CIFAR-10 data and save it to file. The code below also uses 10% of the training data for validation."
   ]
  },
  {
   "cell_type": "code",
   "execution_count": 19,
   "metadata": {
    "collapsed": false,
    "deletable": true,
    "editable": true
   },
   "outputs": [],
   "source": [
    "\"\"\"\n",
    "DON'T MODIFY ANYTHING IN THIS CELL\n",
    "\"\"\"\n",
    "# Preprocess Training, Validation, and Testing Data\n",
    "helper.preprocess_and_save_data(cifar10_dataset_folder_path, normalize, one_hot_encode)"
   ]
  },
  {
   "cell_type": "markdown",
   "metadata": {
    "deletable": true,
    "editable": true
   },
   "source": [
    "# Check Point\n",
    "This is your first checkpoint.  If you ever decide to come back to this notebook or have to restart the notebook, you can start from here.  The preprocessed data has been saved to disk."
   ]
  },
  {
   "cell_type": "code",
   "execution_count": 1,
   "metadata": {
    "collapsed": true,
    "deletable": true,
    "editable": true
   },
   "outputs": [],
   "source": [
    "\"\"\"\n",
    "DON'T MODIFY ANYTHING IN THIS CELL\n",
    "\"\"\"\n",
    "import pickle\n",
    "import problem_unittests as tests\n",
    "import helper\n",
    "\n",
    "# Load the Preprocessed Validation data\n",
    "valid_features, valid_labels = pickle.load(open('preprocess_validation.p', mode='rb'))"
   ]
  },
  {
   "cell_type": "markdown",
   "metadata": {
    "deletable": true,
    "editable": true
   },
   "source": [
    "## Build the network\n",
    "For the neural network, you'll build each layer into a function.  Most of the code you've seen has been outside of functions. To test your code more thoroughly, we require that you put each layer in a function.  This allows us to give you better feedback and test for simple mistakes using our unittests before you submit your project.\n",
    "\n",
    ">**Note:** If you're finding it hard to dedicate enough time for this course each week, we've provided a small shortcut to this part of the project. In the next couple of problems, you'll have the option to use classes from the [TensorFlow Layers](https://www.tensorflow.org/api_docs/python/tf/layers) or [TensorFlow Layers (contrib)](https://www.tensorflow.org/api_guides/python/contrib.layers) packages to build each layer, except the layers you build in the \"Convolutional and Max Pooling Layer\" section.  TF Layers is similar to Keras's and TFLearn's abstraction to layers, so it's easy to pickup.\n",
    "\n",
    ">However, if you would like to get the most out of this course, try to solve all the problems _without_ using anything from the TF Layers packages. You **can** still use classes from other packages that happen to have the same name as ones you find in TF Layers! For example, instead of using the TF Layers version of the `conv2d` class, [tf.layers.conv2d](https://www.tensorflow.org/api_docs/python/tf/layers/conv2d), you would want to use the TF Neural Network version of `conv2d`, [tf.nn.conv2d](https://www.tensorflow.org/api_docs/python/tf/nn/conv2d). \n",
    "\n",
    "Let's begin!\n",
    "\n",
    "### Input\n",
    "The neural network needs to read the image data, one-hot encoded labels, and dropout keep probability. Implement the following functions\n",
    "* Implement `neural_net_image_input`\n",
    " * Return a [TF Placeholder](https://www.tensorflow.org/api_docs/python/tf/placeholder)\n",
    " * Set the shape using `image_shape` with batch size set to `None`.\n",
    " * Name the TensorFlow placeholder \"x\" using the TensorFlow `name` parameter in the [TF Placeholder](https://www.tensorflow.org/api_docs/python/tf/placeholder).\n",
    "* Implement `neural_net_label_input`\n",
    " * Return a [TF Placeholder](https://www.tensorflow.org/api_docs/python/tf/placeholder)\n",
    " * Set the shape using `n_classes` with batch size set to `None`.\n",
    " * Name the TensorFlow placeholder \"y\" using the TensorFlow `name` parameter in the [TF Placeholder](https://www.tensorflow.org/api_docs/python/tf/placeholder).\n",
    "* Implement `neural_net_keep_prob_input`\n",
    " * Return a [TF Placeholder](https://www.tensorflow.org/api_docs/python/tf/placeholder) for dropout keep probability.\n",
    " * Name the TensorFlow placeholder \"keep_prob\" using the TensorFlow `name` parameter in the [TF Placeholder](https://www.tensorflow.org/api_docs/python/tf/placeholder).\n",
    "\n",
    "These names will be used at the end of the project to load your saved model.\n",
    "\n",
    "Note: `None` for shapes in TensorFlow allow for a dynamic size."
   ]
  },
  {
   "cell_type": "code",
   "execution_count": 2,
   "metadata": {
    "collapsed": false,
    "deletable": true,
    "editable": true
   },
   "outputs": [
    {
     "name": "stdout",
     "output_type": "stream",
     "text": [
      "Image Input Tests Passed.\n",
      "Label Input Tests Passed.\n",
      "Keep Prob Tests Passed.\n"
     ]
    }
   ],
   "source": [
    "import tensorflow as tf\n",
    "\n",
    "def neural_net_image_input(image_shape):\n",
    "    \"\"\"\n",
    "    Return a Tensor for a bach of image input\n",
    "    : image_shape: Shape of the images\n",
    "    : return: Tensor for image input.\n",
    "    \"\"\"\n",
    "    # TODO: Implement Function\n",
    "    return tf.placeholder(tf.float32, (None, *image_shape), name='x')\n",
    "\n",
    "\n",
    "def neural_net_label_input(n_classes):\n",
    "    \"\"\"\n",
    "    Return a Tensor for a batch of label input\n",
    "    : n_classes: Number of classes\n",
    "    : return: Tensor for label input.\n",
    "    \"\"\"\n",
    "    # TODO: Implement Function\n",
    "    return tf.placeholder(tf.float32, (None, n_classes), name='y')\n",
    "\n",
    "\n",
    "def neural_net_keep_prob_input():\n",
    "    \"\"\"\n",
    "    Return a Tensor for keep probability\n",
    "    : return: Tensor for keep probability.\n",
    "    \"\"\"\n",
    "    # TODO: Implement Function\n",
    "    return tf.placeholder(tf.float32, (None), name='keep_prob')\n",
    "\n",
    "\n",
    "\"\"\"\n",
    "DON'T MODIFY ANYTHING IN THIS CELL THAT IS BELOW THIS LINE\n",
    "\"\"\"\n",
    "tf.reset_default_graph()\n",
    "tests.test_nn_image_inputs(neural_net_image_input)\n",
    "tests.test_nn_label_inputs(neural_net_label_input)\n",
    "tests.test_nn_keep_prob_inputs(neural_net_keep_prob_input)"
   ]
  },
  {
   "cell_type": "markdown",
   "metadata": {
    "deletable": true,
    "editable": true
   },
   "source": [
    "### Convolution and Max Pooling Layer\n",
    "Convolution layers have a lot of success with images. For this code cell, you should implement the function `conv2d_maxpool` to apply convolution then max pooling:\n",
    "* Create the weight and bias using `conv_ksize`, `conv_num_outputs` and the shape of `x_tensor`.\n",
    "* Apply a convolution to `x_tensor` using weight and `conv_strides`.\n",
    " * We recommend you use same padding, but you're welcome to use any padding.\n",
    "* Add bias\n",
    "* Add a nonlinear activation to the convolution.\n",
    "* Apply Max Pooling using `pool_ksize` and `pool_strides`.\n",
    " * We recommend you use same padding, but you're welcome to use any padding.\n",
    "\n",
    "**Note:** You **can't** use [TensorFlow Layers](https://www.tensorflow.org/api_docs/python/tf/layers) or [TensorFlow Layers (contrib)](https://www.tensorflow.org/api_guides/python/contrib.layers) for **this** layer, but you can still use TensorFlow's [Neural Network](https://www.tensorflow.org/api_docs/python/tf/nn) package. You may still use the shortcut option for all the **other** layers."
   ]
  },
  {
   "cell_type": "code",
   "execution_count": 3,
   "metadata": {
    "collapsed": false,
    "deletable": true,
    "editable": true
   },
   "outputs": [
    {
     "name": "stdout",
     "output_type": "stream",
     "text": [
      "Tests Passed\n"
     ]
    }
   ],
   "source": [
    "def conv2d_maxpool(x_tensor, conv_num_outputs, conv_ksize, conv_strides, pool_ksize, pool_strides):\n",
    "    \"\"\"\n",
    "    Apply convolution then max pooling to x_tensor\n",
    "    :param x_tensor: TensorFlow Tensor\n",
    "    :param conv_num_outputs: Number of outputs for the convolutional layer\n",
    "    :param conv_strides: Stride 2-D Tuple for convolution\n",
    "    :param pool_ksize: kernal size 2-D Tuple for pool\n",
    "    :param pool_strides: Stride 2-D Tuple for pool\n",
    "    : return: A tensor that represents convolution and max pooling of x_tensor\n",
    "    \"\"\"\n",
    "    # input depth\n",
    "    _, _, _, in_depth = x_tensor.shape\n",
    "    # shape of filter weights\n",
    "    shape = (*conv_ksize, int(in_depth), conv_num_outputs)\n",
    "    # filter weights\n",
    "    fw = tf.Variable(tf.truncated_normal(shape = shape, mean = 0.0, stddev = 0.1))\n",
    "    # biases\n",
    "    b = tf.Variable(tf.zeros(conv_num_outputs))\n",
    "    # convolution strides\n",
    "    conv_s = [1, *conv_strides, 1]\n",
    "    # apply convolution\n",
    "    conv = tf.nn.conv2d(x_tensor, fw, strides = conv_s, padding='SAME') + b\n",
    "    conv = tf.nn.relu(conv)\n",
    "    #conv = tf.nn.elu(conv)\n",
    "    # pooling kernal size\n",
    "    pool_k = [1, *pool_ksize, 1]\n",
    "    # pooling strides\n",
    "    pool_s = [1, *pool_strides, 1]\n",
    "    # apply pooling\n",
    "    pool = tf.nn.max_pool(conv, ksize = pool_k, strides = pool_s, padding='SAME')\n",
    "    # return pool value\n",
    "    return pool\n",
    "    \n",
    "tests.test_con_pool(conv2d_maxpool)"
   ]
  },
  {
   "cell_type": "markdown",
   "metadata": {
    "deletable": true,
    "editable": true
   },
   "source": [
    "### Flatten Layer\n",
    "Implement the `flatten` function to change the dimension of `x_tensor` from a 4-D tensor to a 2-D tensor.  The output should be the shape (*Batch Size*, *Flattened Image Size*). Shortcut option: you can use classes from the [TensorFlow Layers](https://www.tensorflow.org/api_docs/python/tf/layers) or [TensorFlow Layers (contrib)](https://www.tensorflow.org/api_guides/python/contrib.layers) packages for this layer. For more of a challenge, only use other TensorFlow packages."
   ]
  },
  {
   "cell_type": "code",
   "execution_count": 4,
   "metadata": {
    "collapsed": false,
    "deletable": true,
    "editable": true
   },
   "outputs": [
    {
     "name": "stdout",
     "output_type": "stream",
     "text": [
      "Tests Passed\n"
     ]
    }
   ],
   "source": [
    "def flatten(x_tensor):\n",
    "    \"\"\"\n",
    "    Flatten x_tensor to (Batch Size, Flattened Image Size)\n",
    "    : x_tensor: A tensor of size (Batch Size, ...), where ... are the image dimensions.\n",
    "    : return: A tensor of size (Batch Size, Flattened Image Size).\n",
    "    \"\"\"\n",
    "    # TODO: Implement Function\n",
    "    return tf.reshape(x_tensor, shape=[-1, int(x_tensor.shape[1]) * int(x_tensor.shape[2]) * int(x_tensor.shape[3])])\n",
    "\n",
    "\"\"\"\n",
    "DON'T MODIFY ANYTHING IN THIS CELL THAT IS BELOW THIS LINE\n",
    "\"\"\"\n",
    "tests.test_flatten(flatten)"
   ]
  },
  {
   "cell_type": "markdown",
   "metadata": {
    "deletable": true,
    "editable": true
   },
   "source": [
    "### Fully-Connected Layer\n",
    "Implement the `fully_conn` function to apply a fully connected layer to `x_tensor` with the shape (*Batch Size*, *num_outputs*). Shortcut option: you can use classes from the [TensorFlow Layers](https://www.tensorflow.org/api_docs/python/tf/layers) or [TensorFlow Layers (contrib)](https://www.tensorflow.org/api_guides/python/contrib.layers) packages for this layer. For more of a challenge, only use other TensorFlow packages."
   ]
  },
  {
   "cell_type": "code",
   "execution_count": 5,
   "metadata": {
    "collapsed": false,
    "deletable": true,
    "editable": true
   },
   "outputs": [
    {
     "name": "stdout",
     "output_type": "stream",
     "text": [
      "Tests Passed\n"
     ]
    }
   ],
   "source": [
    "def fully_conn(x_tensor, num_outputs):\n",
    "    \"\"\"\n",
    "    Apply a fully connected layer to x_tensor using weight and bias\n",
    "    : x_tensor: A 2-D tensor where the first dimension is batch size.\n",
    "    : num_outputs: The number of output that the new tensor should be.\n",
    "    : return: A 2-D tensor where the second dimension is num_outputs.\n",
    "    \"\"\"\n",
    "    # TODO: Implement Function\n",
    "    # shape of weights\n",
    "    shape = [int(x_tensor.get_shape()[1]), num_outputs]\n",
    "    # weights\n",
    "    w = tf.Variable(tf.truncated_normal(shape = shape, mean = 0, stddev = 0.1))\n",
    "    # biases\n",
    "    b = tf.Variable(tf.zeros(num_outputs))\n",
    "    # apply \n",
    "    return tf.nn.relu(tf.add(tf.matmul(x_tensor, w), b))\n",
    "\n",
    "\n",
    "\"\"\"\n",
    "DON'T MODIFY ANYTHING IN THIS CELL THAT IS BELOW THIS LINE\n",
    "\"\"\"\n",
    "tests.test_fully_conn(fully_conn)"
   ]
  },
  {
   "cell_type": "markdown",
   "metadata": {
    "deletable": true,
    "editable": true
   },
   "source": [
    "### Output Layer\n",
    "Implement the `output` function to apply a fully connected layer to `x_tensor` with the shape (*Batch Size*, *num_outputs*). Shortcut option: you can use classes from the [TensorFlow Layers](https://www.tensorflow.org/api_docs/python/tf/layers) or [TensorFlow Layers (contrib)](https://www.tensorflow.org/api_guides/python/contrib.layers) packages for this layer. For more of a challenge, only use other TensorFlow packages.\n",
    "\n",
    "**Note:** Activation, softmax, or cross entropy should **not** be applied to this."
   ]
  },
  {
   "cell_type": "code",
   "execution_count": 6,
   "metadata": {
    "collapsed": false,
    "deletable": true,
    "editable": true
   },
   "outputs": [
    {
     "name": "stdout",
     "output_type": "stream",
     "text": [
      "Tests Passed\n"
     ]
    }
   ],
   "source": [
    "def output(x_tensor, num_outputs):\n",
    "    \"\"\"\n",
    "    Apply a output layer to x_tensor using weight and bias\n",
    "    : x_tensor: A 2-D tensor where the first dimension is batch size.\n",
    "    : num_outputs: The number of output that the new tensor should be.\n",
    "    : return: A 2-D tensor where the second dimension is num_outputs.\n",
    "    \"\"\"\n",
    "    # TODO: Implement Function\n",
    "    # shape of weights\n",
    "    shape = [int(x_tensor.get_shape()[1]), num_outputs]\n",
    "    # weights\n",
    "    w = tf.Variable(tf.truncated_normal(shape = shape, mean = 0, stddev = 0.1))\n",
    "    # biases\n",
    "    b = tf.Variable(tf.zeros(num_outputs))\n",
    "    # apply \n",
    "    return tf.nn.relu(tf.add(tf.matmul(x_tensor, w), b))\n",
    "\n",
    "\n",
    "\"\"\"\n",
    "DON'T MODIFY ANYTHING IN THIS CELL THAT IS BELOW THIS LINE\n",
    "\"\"\"\n",
    "tests.test_output(output)"
   ]
  },
  {
   "cell_type": "markdown",
   "metadata": {
    "deletable": true,
    "editable": true
   },
   "source": [
    "### Create Convolutional Model\n",
    "Implement the function `conv_net` to create a convolutional neural network model. The function takes in a batch of images, `x`, and outputs logits.  Use the layers you created above to create this model:\n",
    "\n",
    "* Apply 1, 2, or 3 Convolution and Max Pool layers\n",
    "* Apply a Flatten Layer\n",
    "* Apply 1, 2, or 3 Fully Connected Layers\n",
    "* Apply an Output Layer\n",
    "* Return the output\n",
    "* Apply [TensorFlow's Dropout](https://www.tensorflow.org/api_docs/python/tf/nn/dropout) to one or more layers in the model using `keep_prob`. "
   ]
  },
  {
   "cell_type": "code",
   "execution_count": 7,
   "metadata": {
    "collapsed": false,
    "deletable": true,
    "editable": true
   },
   "outputs": [
    {
     "name": "stdout",
     "output_type": "stream",
     "text": [
      "Neural Network Built!\n"
     ]
    }
   ],
   "source": [
    "def conv_net(x, keep_prob):\n",
    "    \"\"\"\n",
    "    Create a convolutional neural network model\n",
    "    : x: Placeholder tensor that holds image data.\n",
    "    : keep_prob: Placeholder tensor that hold dropout keep probability.\n",
    "    : return: Tensor that represents logits\n",
    "    \"\"\"\n",
    "    # TODO: Apply 1, 2, or 3 Convolution and Max Pool layers\n",
    "    #    Play around with different number of outputs, kernel size and stride\n",
    "    # Function Definition from Above:\n",
    "    #    conv2d_maxpool(x_tensor, conv_num_outputs, conv_ksize, conv_strides, pool_ksize, pool_strides)\n",
    "    # Convolution and Max Pool layer 1\n",
    "    cml = conv2d_maxpool(x, 14, (4, 4), (1, 1), (2, 2), (2, 2))\n",
    "    cml = tf.nn.dropout(cml, keep_prob)\n",
    "    \n",
    "    # Convolution and Max Pool layer 2\n",
    "    cml = conv2d_maxpool(x, 24, (4, 4), (1, 1), (2, 2), (2, 2))\n",
    "    cml = tf.nn.dropout(cml, keep_prob)\n",
    "\n",
    "    # TODO: Apply a Flatten Layer\n",
    "    # Function Definition from Above:\n",
    "    #   flatten(x_tensor)\n",
    "    fl = flatten(cml)\n",
    "    \n",
    "\n",
    "    # TODO: Apply 1, 2, or 3 Fully Connected Layers\n",
    "    #    Play around with different number of outputs\n",
    "    # Function Definition from Above:\n",
    "    #   fully_conn(x_tensor, num_outputs)\n",
    "    # Fully Connected Layer 1\n",
    "    fcl = fully_conn(fl, 256)\n",
    "    fcl = tf.nn.dropout(fl, keep_prob)\n",
    "    \n",
    "    # Fully Connected Layer 2\n",
    "    fcl = fully_conn(fl, 170)\n",
    "    fcl = tf.nn.dropout(fl, keep_prob)\n",
    "    \n",
    "    \n",
    "    # TODO: Apply an Output Layer\n",
    "    #    Set this to the number of classes\n",
    "    # Function Definition from Above:\n",
    "    #   output(x_tensor, num_outputs)\n",
    "    ol = output(fcl, 10)\n",
    "    \n",
    "    # TODO: return output\n",
    "    return ol\n",
    "\n",
    "\n",
    "\"\"\"\n",
    "DON'T MODIFY ANYTHING IN THIS CELL THAT IS BELOW THIS LINE\n",
    "\"\"\"\n",
    "\n",
    "##############################\n",
    "## Build the Neural Network ##\n",
    "##############################\n",
    "\n",
    "# Remove previous weights, bias, inputs, etc..\n",
    "tf.reset_default_graph()\n",
    "\n",
    "# Inputs\n",
    "x = neural_net_image_input((32, 32, 3))\n",
    "y = neural_net_label_input(10)\n",
    "keep_prob = neural_net_keep_prob_input()\n",
    "\n",
    "# Model\n",
    "logits = conv_net(x, keep_prob)\n",
    "\n",
    "# Name logits Tensor, so that is can be loaded from disk after training\n",
    "logits = tf.identity(logits, name='logits')\n",
    "\n",
    "# Loss and Optimizer\n",
    "cost = tf.reduce_mean(tf.nn.softmax_cross_entropy_with_logits(logits=logits, labels=y))\n",
    "optimizer = tf.train.AdamOptimizer().minimize(cost)\n",
    "\n",
    "# Accuracy\n",
    "correct_pred = tf.equal(tf.argmax(logits, 1), tf.argmax(y, 1))\n",
    "accuracy = tf.reduce_mean(tf.cast(correct_pred, tf.float32), name='accuracy')\n",
    "\n",
    "tests.test_conv_net(conv_net)"
   ]
  },
  {
   "cell_type": "markdown",
   "metadata": {
    "deletable": true,
    "editable": true
   },
   "source": [
    "## Train the Neural Network\n",
    "### Single Optimization\n",
    "Implement the function `train_neural_network` to do a single optimization.  The optimization should use `optimizer` to optimize in `session` with a `feed_dict` of the following:\n",
    "* `x` for image input\n",
    "* `y` for labels\n",
    "* `keep_prob` for keep probability for dropout\n",
    "\n",
    "This function will be called for each batch, so `tf.global_variables_initializer()` has already been called.\n",
    "\n",
    "Note: Nothing needs to be returned. This function is only optimizing the neural network."
   ]
  },
  {
   "cell_type": "code",
   "execution_count": 8,
   "metadata": {
    "collapsed": false,
    "deletable": true,
    "editable": true
   },
   "outputs": [
    {
     "name": "stdout",
     "output_type": "stream",
     "text": [
      "Tests Passed\n"
     ]
    }
   ],
   "source": [
    "def train_neural_network(session, optimizer, keep_probability, feature_batch, label_batch):\n",
    "    \"\"\"\n",
    "    Optimize the session on a batch of images and labels\n",
    "    : session: Current TensorFlow session\n",
    "    : optimizer: TensorFlow optimizer function\n",
    "    : keep_probability: keep probability\n",
    "    : feature_batch: Batch of Numpy image data\n",
    "    : label_batch: Batch of Numpy label data\n",
    "    \"\"\"\n",
    "    # TODO: Implement Function\n",
    "    session.run(optimizer, feed_dict={x : feature_batch, y : label_batch, keep_prob : keep_probability})\n",
    "\n",
    "\n",
    "\"\"\"\n",
    "DON'T MODIFY ANYTHING IN THIS CELL THAT IS BELOW THIS LINE\n",
    "\"\"\"\n",
    "tests.test_train_nn(train_neural_network)"
   ]
  },
  {
   "cell_type": "markdown",
   "metadata": {
    "deletable": true,
    "editable": true
   },
   "source": [
    "### Show Stats\n",
    "Implement the function `print_stats` to print loss and validation accuracy.  Use the global variables `valid_features` and `valid_labels` to calculate validation accuracy.  Use a keep probability of `1.0` to calculate the loss and validation accuracy."
   ]
  },
  {
   "cell_type": "code",
   "execution_count": 9,
   "metadata": {
    "collapsed": false,
    "deletable": true,
    "editable": true
   },
   "outputs": [],
   "source": [
    "def print_stats(session, feature_batch, label_batch, cost, accuracy):\n",
    "    \"\"\"\n",
    "    Print information about loss and validation accuracy\n",
    "    : session: Current TensorFlow session\n",
    "    : feature_batch: Batch of Numpy image data\n",
    "    : label_batch: Batch of Numpy label data\n",
    "    : cost: TensorFlow cost function\n",
    "    : accuracy: TensorFlow accuracy function\n",
    "    \"\"\"\n",
    "    # TODO: Implement Function\n",
    "    # Calculate loss\n",
    "    loss = session.run(cost, feed_dict={x : feature_batch, y : label_batch, keep_prob : 1.0})\n",
    "    # Calculate Validation Accuracy\n",
    "    val_acc = session.run(accuracy, feed_dict={x : valid_features, y : valid_labels, keep_prob : 1.0})\n",
    "    \n",
    "    # Print Calculated Values\n",
    "    print('Loss : {:>10.3f} Validation Accuracy {:.5f}'.format(loss, val_acc))"
   ]
  },
  {
   "cell_type": "markdown",
   "metadata": {
    "deletable": true,
    "editable": true
   },
   "source": [
    "### Hyperparameters\n",
    "Tune the following parameters:\n",
    "* Set `epochs` to the number of iterations until the network stops learning or start overfitting\n",
    "* Set `batch_size` to the highest number that your machine has memory for.  Most people set them to common sizes of memory:\n",
    " * 64\n",
    " * 128\n",
    " * 256\n",
    " * ...\n",
    "* Set `keep_probability` to the probability of keeping a node using dropout"
   ]
  },
  {
   "cell_type": "code",
   "execution_count": 10,
   "metadata": {
    "collapsed": true,
    "deletable": true,
    "editable": true
   },
   "outputs": [],
   "source": [
    "# TODO: Tune Parameters\n",
    "epochs = 50\n",
    "batch_size = 256\n",
    "keep_probability = 0.5"
   ]
  },
  {
   "cell_type": "markdown",
   "metadata": {
    "deletable": true,
    "editable": true
   },
   "source": [
    "### Train on a Single CIFAR-10 Batch\n",
    "Instead of training the neural network on all the CIFAR-10 batches of data, let's use a single batch. This should save time while you iterate on the model to get a better accuracy.  Once the final validation accuracy is 50% or greater, run the model on all the data in the next section."
   ]
  },
  {
   "cell_type": "code",
   "execution_count": 11,
   "metadata": {
    "collapsed": false,
    "deletable": true,
    "editable": true
   },
   "outputs": [
    {
     "name": "stdout",
     "output_type": "stream",
     "text": [
      "Checking the Training on a Single Batch...\n",
      "Epoch  1, CIFAR-10 Batch 1:  Loss :      2.303 Validation Accuracy 0.09780\n",
      "Epoch  2, CIFAR-10 Batch 1:  Loss :      2.303 Validation Accuracy 0.09820\n",
      "Epoch  3, CIFAR-10 Batch 1:  Loss :      2.298 Validation Accuracy 0.10460\n",
      "Epoch  4, CIFAR-10 Batch 1:  Loss :      2.222 Validation Accuracy 0.16180\n",
      "Epoch  5, CIFAR-10 Batch 1:  Loss :      2.192 Validation Accuracy 0.24540\n",
      "Epoch  6, CIFAR-10 Batch 1:  Loss :      2.083 Validation Accuracy 0.29000\n",
      "Epoch  7, CIFAR-10 Batch 1:  Loss :      2.009 Validation Accuracy 0.36680\n",
      "Epoch  8, CIFAR-10 Batch 1:  Loss :      1.936 Validation Accuracy 0.39020\n",
      "Epoch  9, CIFAR-10 Batch 1:  Loss :      1.841 Validation Accuracy 0.40460\n",
      "Epoch 10, CIFAR-10 Batch 1:  Loss :      1.720 Validation Accuracy 0.43840\n",
      "Epoch 11, CIFAR-10 Batch 1:  Loss :      1.633 Validation Accuracy 0.46000\n",
      "Epoch 12, CIFAR-10 Batch 1:  Loss :      1.548 Validation Accuracy 0.47780\n",
      "Epoch 13, CIFAR-10 Batch 1:  Loss :      1.495 Validation Accuracy 0.48240\n",
      "Epoch 14, CIFAR-10 Batch 1:  Loss :      1.457 Validation Accuracy 0.48720\n",
      "Epoch 15, CIFAR-10 Batch 1:  Loss :      1.383 Validation Accuracy 0.49960\n",
      "Epoch 16, CIFAR-10 Batch 1:  Loss :      1.335 Validation Accuracy 0.49880\n",
      "Epoch 17, CIFAR-10 Batch 1:  Loss :      1.280 Validation Accuracy 0.51260\n",
      "Epoch 18, CIFAR-10 Batch 1:  Loss :      1.217 Validation Accuracy 0.50840\n",
      "Epoch 19, CIFAR-10 Batch 1:  Loss :      1.213 Validation Accuracy 0.51060\n",
      "Epoch 20, CIFAR-10 Batch 1:  Loss :      1.167 Validation Accuracy 0.51020\n",
      "Epoch 21, CIFAR-10 Batch 1:  Loss :      1.113 Validation Accuracy 0.52380\n",
      "Epoch 22, CIFAR-10 Batch 1:  Loss :      1.102 Validation Accuracy 0.52120\n",
      "Epoch 23, CIFAR-10 Batch 1:  Loss :      1.034 Validation Accuracy 0.53080\n",
      "Epoch 24, CIFAR-10 Batch 1:  Loss :      1.016 Validation Accuracy 0.53260\n",
      "Epoch 25, CIFAR-10 Batch 1:  Loss :      0.978 Validation Accuracy 0.53440\n",
      "Epoch 26, CIFAR-10 Batch 1:  Loss :      0.932 Validation Accuracy 0.53840\n",
      "Epoch 27, CIFAR-10 Batch 1:  Loss :      0.933 Validation Accuracy 0.54060\n",
      "Epoch 28, CIFAR-10 Batch 1:  Loss :      0.901 Validation Accuracy 0.54460\n",
      "Epoch 29, CIFAR-10 Batch 1:  Loss :      0.872 Validation Accuracy 0.54700\n",
      "Epoch 30, CIFAR-10 Batch 1:  Loss :      0.831 Validation Accuracy 0.54940\n",
      "Epoch 31, CIFAR-10 Batch 1:  Loss :      0.826 Validation Accuracy 0.55020\n",
      "Epoch 32, CIFAR-10 Batch 1:  Loss :      0.799 Validation Accuracy 0.55260\n",
      "Epoch 33, CIFAR-10 Batch 1:  Loss :      0.768 Validation Accuracy 0.55120\n",
      "Epoch 34, CIFAR-10 Batch 1:  Loss :      0.751 Validation Accuracy 0.55320\n",
      "Epoch 35, CIFAR-10 Batch 1:  Loss :      0.749 Validation Accuracy 0.55600\n",
      "Epoch 36, CIFAR-10 Batch 1:  Loss :      0.709 Validation Accuracy 0.55500\n",
      "Epoch 37, CIFAR-10 Batch 1:  Loss :      0.712 Validation Accuracy 0.55740\n",
      "Epoch 38, CIFAR-10 Batch 1:  Loss :      0.689 Validation Accuracy 0.55660\n",
      "Epoch 39, CIFAR-10 Batch 1:  Loss :      0.684 Validation Accuracy 0.56160\n",
      "Epoch 40, CIFAR-10 Batch 1:  Loss :      0.676 Validation Accuracy 0.56140\n",
      "Epoch 41, CIFAR-10 Batch 1:  Loss :      0.644 Validation Accuracy 0.57040\n",
      "Epoch 42, CIFAR-10 Batch 1:  Loss :      0.633 Validation Accuracy 0.56780\n",
      "Epoch 43, CIFAR-10 Batch 1:  Loss :      0.629 Validation Accuracy 0.56380\n",
      "Epoch 44, CIFAR-10 Batch 1:  Loss :      0.623 Validation Accuracy 0.56620\n",
      "Epoch 45, CIFAR-10 Batch 1:  Loss :      0.588 Validation Accuracy 0.56960\n",
      "Epoch 46, CIFAR-10 Batch 1:  Loss :      0.615 Validation Accuracy 0.56640\n",
      "Epoch 47, CIFAR-10 Batch 1:  Loss :      0.596 Validation Accuracy 0.56980\n",
      "Epoch 48, CIFAR-10 Batch 1:  Loss :      0.576 Validation Accuracy 0.57180\n",
      "Epoch 49, CIFAR-10 Batch 1:  Loss :      0.571 Validation Accuracy 0.56640\n",
      "Epoch 50, CIFAR-10 Batch 1:  Loss :      0.534 Validation Accuracy 0.57460\n"
     ]
    }
   ],
   "source": [
    "\"\"\"\n",
    "DON'T MODIFY ANYTHING IN THIS CELL\n",
    "\"\"\"\n",
    "print('Checking the Training on a Single Batch...')\n",
    "with tf.Session() as sess:\n",
    "    # Initializing the variables\n",
    "    sess.run(tf.global_variables_initializer())\n",
    "    \n",
    "    # Training cycle\n",
    "    for epoch in range(epochs):\n",
    "        batch_i = 1\n",
    "        for batch_features, batch_labels in helper.load_preprocess_training_batch(batch_i, batch_size):\n",
    "            train_neural_network(sess, optimizer, keep_probability, batch_features, batch_labels)\n",
    "        print('Epoch {:>2}, CIFAR-10 Batch {}:  '.format(epoch + 1, batch_i), end='')\n",
    "        print_stats(sess, batch_features, batch_labels, cost, accuracy)"
   ]
  },
  {
   "cell_type": "markdown",
   "metadata": {
    "deletable": true,
    "editable": true
   },
   "source": [
    "### Fully Train the Model\n",
    "Now that you got a good accuracy with a single CIFAR-10 batch, try it with all five batches."
   ]
  },
  {
   "cell_type": "code",
   "execution_count": 12,
   "metadata": {
    "collapsed": false,
    "deletable": true,
    "editable": true
   },
   "outputs": [
    {
     "name": "stdout",
     "output_type": "stream",
     "text": [
      "Training...\n",
      "Epoch  1, CIFAR-10 Batch 1:  Loss :      2.303 Validation Accuracy 0.09780\n",
      "Epoch  1, CIFAR-10 Batch 2:  Loss :      2.303 Validation Accuracy 0.09780\n",
      "Epoch  1, CIFAR-10 Batch 3:  Loss :      2.303 Validation Accuracy 0.09780\n",
      "Epoch  1, CIFAR-10 Batch 4:  Loss :      2.303 Validation Accuracy 0.09780\n",
      "Epoch  1, CIFAR-10 Batch 5:  Loss :      2.303 Validation Accuracy 0.09780\n",
      "Epoch  2, CIFAR-10 Batch 1:  Loss :      2.303 Validation Accuracy 0.09780\n",
      "Epoch  2, CIFAR-10 Batch 2:  Loss :      2.303 Validation Accuracy 0.09860\n",
      "Epoch  2, CIFAR-10 Batch 3:  Loss :      2.303 Validation Accuracy 0.09860\n",
      "Epoch  2, CIFAR-10 Batch 4:  Loss :      2.303 Validation Accuracy 0.09980\n",
      "Epoch  2, CIFAR-10 Batch 5:  Loss :      2.303 Validation Accuracy 0.11520\n",
      "Epoch  3, CIFAR-10 Batch 1:  Loss :      2.303 Validation Accuracy 0.10580\n",
      "Epoch  3, CIFAR-10 Batch 2:  Loss :      2.208 Validation Accuracy 0.14300\n",
      "Epoch  3, CIFAR-10 Batch 3:  Loss :      2.222 Validation Accuracy 0.15140\n",
      "Epoch  3, CIFAR-10 Batch 4:  Loss :      2.201 Validation Accuracy 0.19220\n",
      "Epoch  3, CIFAR-10 Batch 5:  Loss :      2.143 Validation Accuracy 0.22260\n",
      "Epoch  4, CIFAR-10 Batch 1:  Loss :      2.112 Validation Accuracy 0.26260\n",
      "Epoch  4, CIFAR-10 Batch 2:  Loss :      2.027 Validation Accuracy 0.27800\n",
      "Epoch  4, CIFAR-10 Batch 3:  Loss :      2.026 Validation Accuracy 0.28040\n",
      "Epoch  4, CIFAR-10 Batch 4:  Loss :      1.859 Validation Accuracy 0.29860\n",
      "Epoch  4, CIFAR-10 Batch 5:  Loss :      1.976 Validation Accuracy 0.30560\n",
      "Epoch  5, CIFAR-10 Batch 1:  Loss :      1.995 Validation Accuracy 0.31460\n",
      "Epoch  5, CIFAR-10 Batch 2:  Loss :      1.905 Validation Accuracy 0.32920\n",
      "Epoch  5, CIFAR-10 Batch 3:  Loss :      1.855 Validation Accuracy 0.38080\n",
      "Epoch  5, CIFAR-10 Batch 4:  Loss :      1.702 Validation Accuracy 0.40080\n",
      "Epoch  5, CIFAR-10 Batch 5:  Loss :      1.698 Validation Accuracy 0.42680\n",
      "Epoch  6, CIFAR-10 Batch 1:  Loss :      1.833 Validation Accuracy 0.43040\n",
      "Epoch  6, CIFAR-10 Batch 2:  Loss :      1.656 Validation Accuracy 0.44780\n",
      "Epoch  6, CIFAR-10 Batch 3:  Loss :      1.634 Validation Accuracy 0.44580\n",
      "Epoch  6, CIFAR-10 Batch 4:  Loss :      1.504 Validation Accuracy 0.45300\n",
      "Epoch  6, CIFAR-10 Batch 5:  Loss :      1.546 Validation Accuracy 0.46020\n",
      "Epoch  7, CIFAR-10 Batch 1:  Loss :      1.716 Validation Accuracy 0.46820\n",
      "Epoch  7, CIFAR-10 Batch 2:  Loss :      1.530 Validation Accuracy 0.46440\n",
      "Epoch  7, CIFAR-10 Batch 3:  Loss :      1.524 Validation Accuracy 0.47100\n",
      "Epoch  7, CIFAR-10 Batch 4:  Loss :      1.459 Validation Accuracy 0.47380\n",
      "Epoch  7, CIFAR-10 Batch 5:  Loss :      1.482 Validation Accuracy 0.49960\n",
      "Epoch  8, CIFAR-10 Batch 1:  Loss :      1.564 Validation Accuracy 0.51980\n",
      "Epoch  8, CIFAR-10 Batch 2:  Loss :      1.403 Validation Accuracy 0.51420\n",
      "Epoch  8, CIFAR-10 Batch 3:  Loss :      1.276 Validation Accuracy 0.52080\n",
      "Epoch  8, CIFAR-10 Batch 4:  Loss :      1.402 Validation Accuracy 0.53400\n",
      "Epoch  8, CIFAR-10 Batch 5:  Loss :      1.348 Validation Accuracy 0.53520\n",
      "Epoch  9, CIFAR-10 Batch 1:  Loss :      1.445 Validation Accuracy 0.53300\n",
      "Epoch  9, CIFAR-10 Batch 2:  Loss :      1.323 Validation Accuracy 0.53440\n",
      "Epoch  9, CIFAR-10 Batch 3:  Loss :      1.157 Validation Accuracy 0.53320\n",
      "Epoch  9, CIFAR-10 Batch 4:  Loss :      1.344 Validation Accuracy 0.54920\n",
      "Epoch  9, CIFAR-10 Batch 5:  Loss :      1.269 Validation Accuracy 0.54380\n",
      "Epoch 10, CIFAR-10 Batch 1:  Loss :      1.392 Validation Accuracy 0.54300\n",
      "Epoch 10, CIFAR-10 Batch 2:  Loss :      1.254 Validation Accuracy 0.54100\n",
      "Epoch 10, CIFAR-10 Batch 3:  Loss :      1.121 Validation Accuracy 0.55000\n",
      "Epoch 10, CIFAR-10 Batch 4:  Loss :      1.305 Validation Accuracy 0.55420\n",
      "Epoch 10, CIFAR-10 Batch 5:  Loss :      1.213 Validation Accuracy 0.55420\n",
      "Epoch 11, CIFAR-10 Batch 1:  Loss :      1.349 Validation Accuracy 0.55140\n",
      "Epoch 11, CIFAR-10 Batch 2:  Loss :      1.206 Validation Accuracy 0.55400\n",
      "Epoch 11, CIFAR-10 Batch 3:  Loss :      1.040 Validation Accuracy 0.55940\n",
      "Epoch 11, CIFAR-10 Batch 4:  Loss :      1.255 Validation Accuracy 0.55620\n",
      "Epoch 11, CIFAR-10 Batch 5:  Loss :      1.151 Validation Accuracy 0.56540\n",
      "Epoch 12, CIFAR-10 Batch 1:  Loss :      1.298 Validation Accuracy 0.55920\n",
      "Epoch 12, CIFAR-10 Batch 2:  Loss :      1.155 Validation Accuracy 0.56040\n",
      "Epoch 12, CIFAR-10 Batch 3:  Loss :      1.005 Validation Accuracy 0.55940\n",
      "Epoch 12, CIFAR-10 Batch 4:  Loss :      1.203 Validation Accuracy 0.56700\n",
      "Epoch 12, CIFAR-10 Batch 5:  Loss :      1.150 Validation Accuracy 0.56820\n",
      "Epoch 13, CIFAR-10 Batch 1:  Loss :      1.272 Validation Accuracy 0.56440\n",
      "Epoch 13, CIFAR-10 Batch 2:  Loss :      1.113 Validation Accuracy 0.56320\n",
      "Epoch 13, CIFAR-10 Batch 3:  Loss :      0.976 Validation Accuracy 0.56840\n",
      "Epoch 13, CIFAR-10 Batch 4:  Loss :      1.169 Validation Accuracy 0.57340\n",
      "Epoch 13, CIFAR-10 Batch 5:  Loss :      1.108 Validation Accuracy 0.57640\n",
      "Epoch 14, CIFAR-10 Batch 1:  Loss :      1.246 Validation Accuracy 0.57360\n",
      "Epoch 14, CIFAR-10 Batch 2:  Loss :      1.070 Validation Accuracy 0.57340\n",
      "Epoch 14, CIFAR-10 Batch 3:  Loss :      0.964 Validation Accuracy 0.57420\n",
      "Epoch 14, CIFAR-10 Batch 4:  Loss :      1.141 Validation Accuracy 0.57800\n",
      "Epoch 14, CIFAR-10 Batch 5:  Loss :      1.025 Validation Accuracy 0.57740\n",
      "Epoch 15, CIFAR-10 Batch 1:  Loss :      1.221 Validation Accuracy 0.57260\n",
      "Epoch 15, CIFAR-10 Batch 2:  Loss :      1.042 Validation Accuracy 0.57380\n",
      "Epoch 15, CIFAR-10 Batch 3:  Loss :      0.947 Validation Accuracy 0.57420\n",
      "Epoch 15, CIFAR-10 Batch 4:  Loss :      1.144 Validation Accuracy 0.57900\n",
      "Epoch 15, CIFAR-10 Batch 5:  Loss :      0.990 Validation Accuracy 0.57940\n",
      "Epoch 16, CIFAR-10 Batch 1:  Loss :      1.177 Validation Accuracy 0.58020\n",
      "Epoch 16, CIFAR-10 Batch 2:  Loss :      1.033 Validation Accuracy 0.58220\n",
      "Epoch 16, CIFAR-10 Batch 3:  Loss :      0.925 Validation Accuracy 0.58100\n",
      "Epoch 16, CIFAR-10 Batch 4:  Loss :      1.093 Validation Accuracy 0.58940\n",
      "Epoch 16, CIFAR-10 Batch 5:  Loss :      0.999 Validation Accuracy 0.58440\n",
      "Epoch 17, CIFAR-10 Batch 1:  Loss :      1.157 Validation Accuracy 0.58220\n",
      "Epoch 17, CIFAR-10 Batch 2:  Loss :      1.011 Validation Accuracy 0.58460\n",
      "Epoch 17, CIFAR-10 Batch 3:  Loss :      0.911 Validation Accuracy 0.58500\n",
      "Epoch 17, CIFAR-10 Batch 4:  Loss :      1.099 Validation Accuracy 0.59440\n",
      "Epoch 17, CIFAR-10 Batch 5:  Loss :      0.979 Validation Accuracy 0.59080\n",
      "Epoch 18, CIFAR-10 Batch 1:  Loss :      1.139 Validation Accuracy 0.58240\n",
      "Epoch 18, CIFAR-10 Batch 2:  Loss :      0.978 Validation Accuracy 0.59040\n",
      "Epoch 18, CIFAR-10 Batch 3:  Loss :      0.873 Validation Accuracy 0.59100\n",
      "Epoch 18, CIFAR-10 Batch 4:  Loss :      1.113 Validation Accuracy 0.58660\n",
      "Epoch 18, CIFAR-10 Batch 5:  Loss :      0.948 Validation Accuracy 0.59560\n",
      "Epoch 19, CIFAR-10 Batch 1:  Loss :      1.134 Validation Accuracy 0.58660\n",
      "Epoch 19, CIFAR-10 Batch 2:  Loss :      0.941 Validation Accuracy 0.58540\n",
      "Epoch 19, CIFAR-10 Batch 3:  Loss :      0.855 Validation Accuracy 0.58700\n",
      "Epoch 19, CIFAR-10 Batch 4:  Loss :      1.061 Validation Accuracy 0.59660\n",
      "Epoch 19, CIFAR-10 Batch 5:  Loss :      0.933 Validation Accuracy 0.59460\n",
      "Epoch 20, CIFAR-10 Batch 1:  Loss :      1.095 Validation Accuracy 0.58200\n",
      "Epoch 20, CIFAR-10 Batch 2:  Loss :      0.913 Validation Accuracy 0.59800\n",
      "Epoch 20, CIFAR-10 Batch 3:  Loss :      0.859 Validation Accuracy 0.59860\n",
      "Epoch 20, CIFAR-10 Batch 4:  Loss :      1.055 Validation Accuracy 0.60000\n",
      "Epoch 20, CIFAR-10 Batch 5:  Loss :      0.914 Validation Accuracy 0.59900\n",
      "Epoch 21, CIFAR-10 Batch 1:  Loss :      1.070 Validation Accuracy 0.59720\n",
      "Epoch 21, CIFAR-10 Batch 2:  Loss :      0.931 Validation Accuracy 0.59760\n",
      "Epoch 21, CIFAR-10 Batch 3:  Loss :      0.843 Validation Accuracy 0.59860\n",
      "Epoch 21, CIFAR-10 Batch 4:  Loss :      1.040 Validation Accuracy 0.60200\n",
      "Epoch 21, CIFAR-10 Batch 5:  Loss :      0.891 Validation Accuracy 0.60100\n",
      "Epoch 22, CIFAR-10 Batch 1:  Loss :      1.064 Validation Accuracy 0.59400\n",
      "Epoch 22, CIFAR-10 Batch 2:  Loss :      0.920 Validation Accuracy 0.59980\n",
      "Epoch 22, CIFAR-10 Batch 3:  Loss :      0.807 Validation Accuracy 0.59940\n",
      "Epoch 22, CIFAR-10 Batch 4:  Loss :      1.035 Validation Accuracy 0.60200\n",
      "Epoch 22, CIFAR-10 Batch 5:  Loss :      0.874 Validation Accuracy 0.60320\n",
      "Epoch 23, CIFAR-10 Batch 1:  Loss :      1.070 Validation Accuracy 0.59520\n",
      "Epoch 23, CIFAR-10 Batch 2:  Loss :      0.884 Validation Accuracy 0.59920\n",
      "Epoch 23, CIFAR-10 Batch 3:  Loss :      0.810 Validation Accuracy 0.60260\n",
      "Epoch 23, CIFAR-10 Batch 4:  Loss :      1.013 Validation Accuracy 0.61080\n",
      "Epoch 23, CIFAR-10 Batch 5:  Loss :      0.875 Validation Accuracy 0.60360\n",
      "Epoch 24, CIFAR-10 Batch 1:  Loss :      1.057 Validation Accuracy 0.58960\n",
      "Epoch 24, CIFAR-10 Batch 2:  Loss :      0.846 Validation Accuracy 0.60480\n",
      "Epoch 24, CIFAR-10 Batch 3:  Loss :      0.801 Validation Accuracy 0.59700\n",
      "Epoch 24, CIFAR-10 Batch 4:  Loss :      1.027 Validation Accuracy 0.60240\n",
      "Epoch 24, CIFAR-10 Batch 5:  Loss :      0.854 Validation Accuracy 0.60640\n",
      "Epoch 25, CIFAR-10 Batch 1:  Loss :      1.031 Validation Accuracy 0.60380\n",
      "Epoch 25, CIFAR-10 Batch 2:  Loss :      0.852 Validation Accuracy 0.60280\n",
      "Epoch 25, CIFAR-10 Batch 3:  Loss :      0.781 Validation Accuracy 0.59960\n",
      "Epoch 25, CIFAR-10 Batch 4:  Loss :      1.013 Validation Accuracy 0.60100\n",
      "Epoch 25, CIFAR-10 Batch 5:  Loss :      0.870 Validation Accuracy 0.60620\n",
      "Epoch 26, CIFAR-10 Batch 1:  Loss :      1.021 Validation Accuracy 0.59820\n",
      "Epoch 26, CIFAR-10 Batch 2:  Loss :      0.839 Validation Accuracy 0.60340\n",
      "Epoch 26, CIFAR-10 Batch 3:  Loss :      0.770 Validation Accuracy 0.60340\n",
      "Epoch 26, CIFAR-10 Batch 4:  Loss :      1.023 Validation Accuracy 0.59840\n",
      "Epoch 26, CIFAR-10 Batch 5:  Loss :      0.846 Validation Accuracy 0.60760\n",
      "Epoch 27, CIFAR-10 Batch 1:  Loss :      1.004 Validation Accuracy 0.60240\n",
      "Epoch 27, CIFAR-10 Batch 2:  Loss :      0.823 Validation Accuracy 0.60580\n",
      "Epoch 27, CIFAR-10 Batch 3:  Loss :      0.756 Validation Accuracy 0.60460\n",
      "Epoch 27, CIFAR-10 Batch 4:  Loss :      0.971 Validation Accuracy 0.60800\n",
      "Epoch 27, CIFAR-10 Batch 5:  Loss :      0.827 Validation Accuracy 0.60780\n",
      "Epoch 28, CIFAR-10 Batch 1:  Loss :      0.991 Validation Accuracy 0.59820\n",
      "Epoch 28, CIFAR-10 Batch 2:  Loss :      0.816 Validation Accuracy 0.60640\n",
      "Epoch 28, CIFAR-10 Batch 3:  Loss :      0.768 Validation Accuracy 0.60640\n",
      "Epoch 28, CIFAR-10 Batch 4:  Loss :      1.004 Validation Accuracy 0.60840\n",
      "Epoch 28, CIFAR-10 Batch 5:  Loss :      0.828 Validation Accuracy 0.61200\n",
      "Epoch 29, CIFAR-10 Batch 1:  Loss :      1.007 Validation Accuracy 0.59980\n",
      "Epoch 29, CIFAR-10 Batch 2:  Loss :      0.811 Validation Accuracy 0.61020\n",
      "Epoch 29, CIFAR-10 Batch 3:  Loss :      0.764 Validation Accuracy 0.60140\n",
      "Epoch 29, CIFAR-10 Batch 4:  Loss :      0.978 Validation Accuracy 0.61240\n",
      "Epoch 29, CIFAR-10 Batch 5:  Loss :      0.815 Validation Accuracy 0.61060\n",
      "Epoch 30, CIFAR-10 Batch 1:  Loss :      0.961 Validation Accuracy 0.60480\n",
      "Epoch 30, CIFAR-10 Batch 2:  Loss :      0.787 Validation Accuracy 0.60540\n",
      "Epoch 30, CIFAR-10 Batch 3:  Loss :      0.750 Validation Accuracy 0.60620\n",
      "Epoch 30, CIFAR-10 Batch 4:  Loss :      0.994 Validation Accuracy 0.60560\n",
      "Epoch 30, CIFAR-10 Batch 5:  Loss :      0.797 Validation Accuracy 0.61380\n",
      "Epoch 31, CIFAR-10 Batch 1:  Loss :      0.969 Validation Accuracy 0.61020\n",
      "Epoch 31, CIFAR-10 Batch 2:  Loss :      0.786 Validation Accuracy 0.60600\n",
      "Epoch 31, CIFAR-10 Batch 3:  Loss :      0.763 Validation Accuracy 0.60900\n",
      "Epoch 31, CIFAR-10 Batch 4:  Loss :      0.989 Validation Accuracy 0.60740\n",
      "Epoch 31, CIFAR-10 Batch 5:  Loss :      0.804 Validation Accuracy 0.61540\n",
      "Epoch 32, CIFAR-10 Batch 1:  Loss :      0.980 Validation Accuracy 0.60500\n",
      "Epoch 32, CIFAR-10 Batch 2:  Loss :      0.759 Validation Accuracy 0.61340\n",
      "Epoch 32, CIFAR-10 Batch 3:  Loss :      0.766 Validation Accuracy 0.60800\n",
      "Epoch 32, CIFAR-10 Batch 4:  Loss :      0.964 Validation Accuracy 0.61200\n",
      "Epoch 32, CIFAR-10 Batch 5:  Loss :      0.782 Validation Accuracy 0.62020\n",
      "Epoch 33, CIFAR-10 Batch 1:  Loss :      0.928 Validation Accuracy 0.60540\n",
      "Epoch 33, CIFAR-10 Batch 2:  Loss :      0.775 Validation Accuracy 0.60720\n",
      "Epoch 33, CIFAR-10 Batch 3:  Loss :      0.761 Validation Accuracy 0.60020\n",
      "Epoch 33, CIFAR-10 Batch 4:  Loss :      0.970 Validation Accuracy 0.61780\n",
      "Epoch 33, CIFAR-10 Batch 5:  Loss :      0.775 Validation Accuracy 0.61480\n",
      "Epoch 34, CIFAR-10 Batch 1:  Loss :      0.954 Validation Accuracy 0.60520\n",
      "Epoch 34, CIFAR-10 Batch 2:  Loss :      0.764 Validation Accuracy 0.60540\n",
      "Epoch 34, CIFAR-10 Batch 3:  Loss :      0.749 Validation Accuracy 0.60340\n",
      "Epoch 34, CIFAR-10 Batch 4:  Loss :      0.825 Validation Accuracy 0.62760\n",
      "Epoch 34, CIFAR-10 Batch 5:  Loss :      0.726 Validation Accuracy 0.63580\n",
      "Epoch 35, CIFAR-10 Batch 1:  Loss :      0.919 Validation Accuracy 0.63060\n",
      "Epoch 35, CIFAR-10 Batch 2:  Loss :      0.642 Validation Accuracy 0.63100\n",
      "Epoch 35, CIFAR-10 Batch 3:  Loss :      0.534 Validation Accuracy 0.63300\n",
      "Epoch 35, CIFAR-10 Batch 4:  Loss :      0.745 Validation Accuracy 0.63580\n",
      "Epoch 35, CIFAR-10 Batch 5:  Loss :      0.674 Validation Accuracy 0.63840\n",
      "Epoch 36, CIFAR-10 Batch 1:  Loss :      0.865 Validation Accuracy 0.63940\n",
      "Epoch 36, CIFAR-10 Batch 2:  Loss :      0.574 Validation Accuracy 0.63980\n",
      "Epoch 36, CIFAR-10 Batch 3:  Loss :      0.518 Validation Accuracy 0.63760\n",
      "Epoch 36, CIFAR-10 Batch 4:  Loss :      0.695 Validation Accuracy 0.63840\n",
      "Epoch 36, CIFAR-10 Batch 5:  Loss :      0.679 Validation Accuracy 0.63840\n",
      "Epoch 37, CIFAR-10 Batch 1:  Loss :      0.803 Validation Accuracy 0.63980\n",
      "Epoch 37, CIFAR-10 Batch 2:  Loss :      0.596 Validation Accuracy 0.63780\n",
      "Epoch 37, CIFAR-10 Batch 3:  Loss :      0.518 Validation Accuracy 0.63980\n",
      "Epoch 37, CIFAR-10 Batch 4:  Loss :      0.678 Validation Accuracy 0.63840\n",
      "Epoch 37, CIFAR-10 Batch 5:  Loss :      0.681 Validation Accuracy 0.63480\n",
      "Epoch 38, CIFAR-10 Batch 1:  Loss :      0.811 Validation Accuracy 0.64260\n",
      "Epoch 38, CIFAR-10 Batch 2:  Loss :      0.560 Validation Accuracy 0.64160\n",
      "Epoch 38, CIFAR-10 Batch 3:  Loss :      0.503 Validation Accuracy 0.63140\n",
      "Epoch 38, CIFAR-10 Batch 4:  Loss :      0.674 Validation Accuracy 0.64100\n",
      "Epoch 38, CIFAR-10 Batch 5:  Loss :      0.637 Validation Accuracy 0.64300\n",
      "Epoch 39, CIFAR-10 Batch 1:  Loss :      0.755 Validation Accuracy 0.64520\n",
      "Epoch 39, CIFAR-10 Batch 2:  Loss :      0.542 Validation Accuracy 0.63660\n",
      "Epoch 39, CIFAR-10 Batch 3:  Loss :      0.506 Validation Accuracy 0.64260\n",
      "Epoch 39, CIFAR-10 Batch 4:  Loss :      0.653 Validation Accuracy 0.64180\n",
      "Epoch 39, CIFAR-10 Batch 5:  Loss :      0.630 Validation Accuracy 0.64640\n",
      "Epoch 40, CIFAR-10 Batch 1:  Loss :      0.777 Validation Accuracy 0.64620\n",
      "Epoch 40, CIFAR-10 Batch 2:  Loss :      0.545 Validation Accuracy 0.63900\n",
      "Epoch 40, CIFAR-10 Batch 3:  Loss :      0.480 Validation Accuracy 0.64100\n",
      "Epoch 40, CIFAR-10 Batch 4:  Loss :      0.636 Validation Accuracy 0.64340\n",
      "Epoch 40, CIFAR-10 Batch 5:  Loss :      0.622 Validation Accuracy 0.64980\n",
      "Epoch 41, CIFAR-10 Batch 1:  Loss :      0.741 Validation Accuracy 0.64140\n",
      "Epoch 41, CIFAR-10 Batch 2:  Loss :      0.536 Validation Accuracy 0.64360\n",
      "Epoch 41, CIFAR-10 Batch 3:  Loss :      0.483 Validation Accuracy 0.63720\n",
      "Epoch 41, CIFAR-10 Batch 4:  Loss :      0.667 Validation Accuracy 0.64080\n",
      "Epoch 41, CIFAR-10 Batch 5:  Loss :      0.647 Validation Accuracy 0.64340\n",
      "Epoch 42, CIFAR-10 Batch 1:  Loss :      0.755 Validation Accuracy 0.63800\n",
      "Epoch 42, CIFAR-10 Batch 2:  Loss :      0.494 Validation Accuracy 0.64660\n",
      "Epoch 42, CIFAR-10 Batch 3:  Loss :      0.482 Validation Accuracy 0.64120\n",
      "Epoch 42, CIFAR-10 Batch 4:  Loss :      0.640 Validation Accuracy 0.64040\n",
      "Epoch 42, CIFAR-10 Batch 5:  Loss :      0.613 Validation Accuracy 0.64980\n",
      "Epoch 43, CIFAR-10 Batch 1:  Loss :      0.723 Validation Accuracy 0.64660\n",
      "Epoch 43, CIFAR-10 Batch 2:  Loss :      0.493 Validation Accuracy 0.64400\n",
      "Epoch 43, CIFAR-10 Batch 3:  Loss :      0.479 Validation Accuracy 0.63520\n",
      "Epoch 43, CIFAR-10 Batch 4:  Loss :      0.621 Validation Accuracy 0.64520\n",
      "Epoch 43, CIFAR-10 Batch 5:  Loss :      0.621 Validation Accuracy 0.65020\n",
      "Epoch 44, CIFAR-10 Batch 1:  Loss :      0.752 Validation Accuracy 0.64500\n",
      "Epoch 44, CIFAR-10 Batch 2:  Loss :      0.496 Validation Accuracy 0.64900\n",
      "Epoch 44, CIFAR-10 Batch 3:  Loss :      0.490 Validation Accuracy 0.64180\n",
      "Epoch 44, CIFAR-10 Batch 4:  Loss :      0.620 Validation Accuracy 0.64060\n",
      "Epoch 44, CIFAR-10 Batch 5:  Loss :      0.624 Validation Accuracy 0.64900\n",
      "Epoch 45, CIFAR-10 Batch 1:  Loss :      0.757 Validation Accuracy 0.64880\n",
      "Epoch 45, CIFAR-10 Batch 2:  Loss :      0.515 Validation Accuracy 0.64320\n",
      "Epoch 45, CIFAR-10 Batch 3:  Loss :      0.481 Validation Accuracy 0.64340\n",
      "Epoch 45, CIFAR-10 Batch 4:  Loss :      0.650 Validation Accuracy 0.64240\n",
      "Epoch 45, CIFAR-10 Batch 5:  Loss :      0.610 Validation Accuracy 0.64980\n",
      "Epoch 46, CIFAR-10 Batch 1:  Loss :      0.717 Validation Accuracy 0.64520\n",
      "Epoch 46, CIFAR-10 Batch 2:  Loss :      0.491 Validation Accuracy 0.64680\n",
      "Epoch 46, CIFAR-10 Batch 3:  Loss :      0.475 Validation Accuracy 0.63480\n",
      "Epoch 46, CIFAR-10 Batch 4:  Loss :      0.601 Validation Accuracy 0.64700\n",
      "Epoch 46, CIFAR-10 Batch 5:  Loss :      0.607 Validation Accuracy 0.65240\n",
      "Epoch 47, CIFAR-10 Batch 1:  Loss :      0.693 Validation Accuracy 0.64680\n",
      "Epoch 47, CIFAR-10 Batch 2:  Loss :      0.471 Validation Accuracy 0.65180\n",
      "Epoch 47, CIFAR-10 Batch 3:  Loss :      0.480 Validation Accuracy 0.64640\n",
      "Epoch 47, CIFAR-10 Batch 4:  Loss :      0.618 Validation Accuracy 0.65140\n",
      "Epoch 47, CIFAR-10 Batch 5:  Loss :      0.615 Validation Accuracy 0.64660\n",
      "Epoch 48, CIFAR-10 Batch 1:  Loss :      0.692 Validation Accuracy 0.64640\n",
      "Epoch 48, CIFAR-10 Batch 2:  Loss :      0.484 Validation Accuracy 0.64820\n",
      "Epoch 48, CIFAR-10 Batch 3:  Loss :      0.453 Validation Accuracy 0.64100\n",
      "Epoch 48, CIFAR-10 Batch 4:  Loss :      0.625 Validation Accuracy 0.64580\n",
      "Epoch 48, CIFAR-10 Batch 5:  Loss :      0.603 Validation Accuracy 0.64700\n",
      "Epoch 49, CIFAR-10 Batch 1:  Loss :      0.679 Validation Accuracy 0.64480\n",
      "Epoch 49, CIFAR-10 Batch 2:  Loss :      0.483 Validation Accuracy 0.64380\n",
      "Epoch 49, CIFAR-10 Batch 3:  Loss :      0.467 Validation Accuracy 0.63580\n",
      "Epoch 49, CIFAR-10 Batch 4:  Loss :      0.632 Validation Accuracy 0.64540\n",
      "Epoch 49, CIFAR-10 Batch 5:  Loss :      0.604 Validation Accuracy 0.64620\n",
      "Epoch 50, CIFAR-10 Batch 1:  Loss :      0.670 Validation Accuracy 0.64940\n",
      "Epoch 50, CIFAR-10 Batch 2:  Loss :      0.483 Validation Accuracy 0.64620\n",
      "Epoch 50, CIFAR-10 Batch 3:  Loss :      0.459 Validation Accuracy 0.64840\n",
      "Epoch 50, CIFAR-10 Batch 4:  Loss :      0.611 Validation Accuracy 0.64620\n",
      "Epoch 50, CIFAR-10 Batch 5:  Loss :      0.593 Validation Accuracy 0.65480\n"
     ]
    }
   ],
   "source": [
    "\"\"\"\n",
    "DON'T MODIFY ANYTHING IN THIS CELL\n",
    "\"\"\"\n",
    "save_model_path = './image_classification'\n",
    "\n",
    "print('Training...')\n",
    "with tf.Session() as sess:\n",
    "    # Initializing the variables\n",
    "    sess.run(tf.global_variables_initializer())\n",
    "    \n",
    "    # Training cycle\n",
    "    for epoch in range(epochs):\n",
    "        # Loop over all batches\n",
    "        n_batches = 5\n",
    "        for batch_i in range(1, n_batches + 1):\n",
    "            for batch_features, batch_labels in helper.load_preprocess_training_batch(batch_i, batch_size):\n",
    "                train_neural_network(sess, optimizer, keep_probability, batch_features, batch_labels)\n",
    "            print('Epoch {:>2}, CIFAR-10 Batch {}:  '.format(epoch + 1, batch_i), end='')\n",
    "            print_stats(sess, batch_features, batch_labels, cost, accuracy)\n",
    "            \n",
    "    # Save Model\n",
    "    saver = tf.train.Saver()\n",
    "    save_path = saver.save(sess, save_model_path)"
   ]
  },
  {
   "cell_type": "markdown",
   "metadata": {
    "deletable": true,
    "editable": true
   },
   "source": [
    "# Checkpoint\n",
    "The model has been saved to disk.\n",
    "## Test Model\n",
    "Test your model against the test dataset.  This will be your final accuracy. You should have an accuracy greater than 50%. If you don't, keep tweaking the model architecture and parameters."
   ]
  },
  {
   "cell_type": "code",
   "execution_count": 14,
   "metadata": {
    "collapsed": false,
    "deletable": true,
    "editable": true
   },
   "outputs": [
    {
     "name": "stdout",
     "output_type": "stream",
     "text": [
      "Testing Accuracy: 0.656640625\n",
      "\n"
     ]
    },
    {
     "data": {
      "image/png": "[encoded data removed]",
      "text/plain": [
       "<matplotlib.figure.Figure at 0x7fa474cc95f8>"
      ]
     },
     "metadata": {
      "image/png": {
       "height": 319,
       "width": 355
      }
     },
     "output_type": "display_data"
    }
   ],
   "source": [
    "\"\"\"\n",
    "DON'T MODIFY ANYTHING IN THIS CELL\n",
    "\"\"\"\n",
    "%matplotlib inline\n",
    "%config InlineBackend.figure_format = 'retina'\n",
    "\n",
    "import tensorflow as tf\n",
    "import pickle\n",
    "import helper\n",
    "import random\n",
    "\n",
    "# Set batch size if not already set\n",
    "try:\n",
    "    if batch_size:\n",
    "        pass\n",
    "except NameError:\n",
    "    batch_size = 64\n",
    "\n",
    "save_model_path = './image_classification'\n",
    "n_samples = 4\n",
    "top_n_predictions = 3\n",
    "\n",
    "def test_model():\n",
    "    \"\"\"\n",
    "    Test the saved model against the test dataset\n",
    "    \"\"\"\n",
    "\n",
    "    test_features, test_labels = pickle.load(open('preprocess_training.p', mode='rb'))\n",
    "    loaded_graph = tf.Graph()\n",
    "\n",
    "    with tf.Session(graph=loaded_graph) as sess:\n",
    "        # Load model\n",
    "        loader = tf.train.import_meta_graph(save_model_path + '.meta')\n",
    "        loader.restore(sess, save_model_path)\n",
    "\n",
    "        # Get Tensors from loaded model\n",
    "        loaded_x = loaded_graph.get_tensor_by_name('x:0')\n",
    "        loaded_y = loaded_graph.get_tensor_by_name('y:0')\n",
    "        loaded_keep_prob = loaded_graph.get_tensor_by_name('keep_prob:0')\n",
    "        loaded_logits = loaded_graph.get_tensor_by_name('logits:0')\n",
    "        loaded_acc = loaded_graph.get_tensor_by_name('accuracy:0')\n",
    "        \n",
    "        # Get accuracy in batches for memory limitations\n",
    "        test_batch_acc_total = 0\n",
    "        test_batch_count = 0\n",
    "        \n",
    "        for train_feature_batch, train_label_batch in helper.batch_features_labels(test_features, test_labels, batch_size):\n",
    "            test_batch_acc_total += sess.run(\n",
    "                loaded_acc,\n",
    "                feed_dict={loaded_x: train_feature_batch, loaded_y: train_label_batch, loaded_keep_prob: 1.0})\n",
    "            test_batch_count += 1\n",
    "\n",
    "        print('Testing Accuracy: {}\\n'.format(test_batch_acc_total/test_batch_count))\n",
    "\n",
    "        # Print Random Samples\n",
    "        random_test_features, random_test_labels = tuple(zip(*random.sample(list(zip(test_features, test_labels)), n_samples)))\n",
    "        random_test_predictions = sess.run(\n",
    "            tf.nn.top_k(tf.nn.softmax(loaded_logits), top_n_predictions),\n",
    "            feed_dict={loaded_x: random_test_features, loaded_y: random_test_labels, loaded_keep_prob: 1.0})\n",
    "        helper.display_image_predictions(random_test_features, random_test_labels, random_test_predictions)\n",
    "\n",
    "\n",
    "test_model()"
   ]
  },
  {
   "cell_type": "markdown",
   "metadata": {
    "deletable": true,
    "editable": true
   },
   "source": [
    "## Why 50-70% Accuracy?\n",
    "You might be wondering why you can't get an accuracy any higher. First things first, 50% isn't bad for a simple CNN.  Pure guessing would get you 10% accuracy. However, you might notice people are getting scores [well above 70%](http://rodrigob.github.io/are_we_there_yet/build/classification_datasets_results.html#43494641522d3130).  That's because we haven't taught you all there is to know about neural networks. We still need to cover a few more techniques.\n",
    "## Submitting This Project\n",
    "When submitting this project, make sure to run all the cells before saving the notebook.  Save the notebook file as \"dlnd_image_classification.ipynb\" and save it as a HTML file under \"File\" -> \"Download as\".  Include the \"helper.py\" and \"problem_unittests.py\" files in your submission."
   ]
  }
 ],
 "metadata": {
  "celltoolbar": "Raw Cell Format",
  "kernelspec": {
   "display_name": "Python 3",
   "language": "python",
   "name": "python3"
  },
  "language_info": {
   "codemirror_mode": {
    "name": "ipython",
    "version": 3
   },
   "file_extension": ".py",
   "mimetype": "text/x-python",
   "name": "python",
   "nbconvert_exporter": "python",
   "pygments_lexer": "ipython3",
   "version": "3.5.2"
  },
  "widgets": {
   "state": {},
   "version": "1.1.2"
  }
 },
 "nbformat": 4,
 "nbformat_minor": 0
}
